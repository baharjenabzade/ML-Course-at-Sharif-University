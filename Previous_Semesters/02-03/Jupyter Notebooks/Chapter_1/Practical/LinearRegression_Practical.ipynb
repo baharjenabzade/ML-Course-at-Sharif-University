{
  "cells": [
    {
      "cell_type": "markdown",
      "metadata": {
        "id": "BspwgQKL3Na8"
      },
      "source": [
        "<font face=\"Times New Roman\" size=5><div dir=rtl align=center>\n",
        "<font face=\"Times New Roman\" size=5>\n",
        "In The Name of God\n",
        "</font>\n",
        "<br> <br>\n",
        "<img src=\"https://logoyar.com/content/wp-content/uploads/2021/04/sharif-university-logo.png\" alt=\"University Logo\" width=\"150\" height=\"150\">\n",
        "<br>\n",
        "<font face=\"Times New Roman\" size=4 align=center>\n",
        "Sharif University of Technology - Department of Computer\n",
        "</font>\n",
        "<br> <br>\n",
        "<font color=\"#008080\" size=5>\n",
        "Introduction to Machine Learning\n",
        "</font>\n",
        "\n",
        "<hr/> <br>\n",
        "<font color=\"#800080\" size=6>\n",
        "Chapter 1: Linear Regression\n",
        "<br>\n",
        "</font>\n",
        "<br>\n",
        "<font face=\"Times New Roman\" size=4>\n",
        ":authors <br>\n",
        "<b>Amirmohammad Isazadeh - Seyyed Alireza Ghazanfari</b>\n",
        "</font>\n",
        "<hr>\n",
        "</div></font>"
      ]
    },
    {
      "cell_type": "markdown",
      "metadata": {
        "id": "i6NrAXONPtcR"
      },
      "source": [
        "<font  size=5><div dir=ltr>\n",
        "<font face=\"Times New Roman\" color=\"#008080\" size=5>**Table of Contents**</font>\n",
        "<br>\n",
        "\n",
        "<font size=4>\n",
        "<ul>\n",
        "    <li>\n",
        "        <a href=\"#1\">\n",
        "            1. Linear Regression\n",
        "        </a>\n",
        "    </li>\n",
        "    <ul>\n",
        "          <li>\n",
        "                <a href=\"#1-1\">\n",
        "                    1-1. From Scratch\n",
        "                </a>\n",
        "            </li>\n",
        "        <ul>\n",
        "            <li>\n",
        "                <a href=\"#1-1-1\">\n",
        "                    1-1-1. Closed Form\n",
        "                </a>\n",
        "            </li>\n",
        "            <li>\n",
        "                <a href=\"#1-1-2\">\n",
        "                    1-1-2. Using Optimization Function (Gradient Descent)\n",
        "                </a>\n",
        "            </li>\n",
        "        </ul>\n",
        "        </ul>\n",
        "    <li>\n",
        "        <a href=\"#2\">\n",
        "            2. Beyond Linear Regression\n",
        "        </a>\n",
        "    </li>\n",
        "    <ul>\n",
        "        <li>\n",
        "            <a href=\"#2-1\">\n",
        "                2-1 Elastic Net\n",
        "            </a>\n",
        "        </li>\n",
        "        <ul>\n",
        "            <li>\n",
        "                <a href=\"#2-1-1\">\n",
        "                    2-1-1 Lasso VS Ridge\n",
        "                </a>\n",
        "            </li>\n",
        "        </ul>\n",
        "    </ul>\n",
        "</ul>\n",
        "</div>"
      ]
    },
    {
      "cell_type": "markdown",
      "metadata": {
        "id": "sBzocXtIiTbu"
      },
      "source": [
        "<font face=\"Times New Roman\"><div id=\"1\">\n",
        "# <font color=\"#800080\" size=6>**1. Linear Regression**</font>\n",
        "</div>"
      ]
    },
    {
      "cell_type": "markdown",
      "metadata": {
        "id": "rYaiPL1plrDm"
      },
      "source": [
        "<font face=\"Times New Roman\"><div id=\"1-1\">\n",
        "## <font color=\"#800080\" size=6>**1-1. From Scratch** </font>\n",
        "</div>"
      ]
    },
    {
      "cell_type": "markdown",
      "metadata": {
        "id": "swwrxuSMAESj"
      },
      "source": [
        "#### <font color=\"#008080\" face=\"Times New Roman\" size=4>**Dataset**</font>"
      ]
    },
    {
      "cell_type": "markdown",
      "metadata": {
        "id": "Ju9aCx5yAESj"
      },
      "source": [
        "##### <font color=\"#008080\" face=\"Times New Roman\" size=4> - Introduction to Dataset </font>\n",
        "\n",
        "<font face=\"Times New Roman\" size=3>\n",
        "To estimate the productivity of apples and oranges, we will use a simple dataset containing metrics like temperature, rainfall, and humidity across different regions.\n",
        "</font>"
      ]
    },
    {
      "cell_type": "markdown",
      "metadata": {
        "id": "gYuiA7fFAESk"
      },
      "source": [
        "##### <font color=\"#008080\" face=\"Times New Roman\" size=4> - Loading Dataset </font>"
      ]
    },
    {
      "cell_type": "code",
      "execution_count": 1,
      "metadata": {
        "id": "FybchF26AESk"
      },
      "outputs": [],
      "source": [
        "import numpy as np\n",
        "\n",
        "# dataset (temp, rainfall, humidity, apples, oranges)\n",
        "df = np.array([[73, 67, 43, 56, 70],\n",
        "                   [91, 88, 64, 81, 101],\n",
        "                   [87, 134, 58, 119, 133],\n",
        "                   [102, 43, 37, 22, 37],\n",
        "                   [69, 96, 70, 103, 119]], dtype='float32')\n",
        "\n",
        "# reigons which are used as indexes\n",
        "regions = [\"Semnan\", \"Golestan\", \"Gilan\", \"Ghazvin\", \"Mazandaran\"]\n",
        "# parameters\n",
        "columns = [\"Temp(F)\", \"Rainfall(mm)\", \"Humidity(%)\", \"Apples(ton)\", \"Oranges(ton)\"]"
      ]
    },
    {
      "cell_type": "code",
      "execution_count": 2,
      "metadata": {
        "colab": {
          "base_uri": "https://localhost:8080/",
          "height": 226
        },
        "id": "dILYYF3KwZUG",
        "outputId": "b4cff681-4be1-4734-f067-d9c231b62a1c"
      },
      "outputs": [
        {
          "output_type": "execute_result",
          "data": {
            "text/plain": [
              "            Temp(F)  Rainfall(mm)  Humidity(%)  Apples(ton)  Oranges(ton)\n",
              "Semnan         73.0          67.0         43.0         56.0          70.0\n",
              "Golestan       91.0          88.0         64.0         81.0         101.0\n",
              "Gilan          87.0         134.0         58.0        119.0         133.0\n",
              "Ghazvin       102.0          43.0         37.0         22.0          37.0\n",
              "Mazandaran     69.0          96.0         70.0        103.0         119.0"
            ],
            "text/html": [
              "\n",
              "  <div id=\"df-aba489fe-0b32-497f-9b99-76ea414febf2\" class=\"colab-df-container\">\n",
              "    <div>\n",
              "<style scoped>\n",
              "    .dataframe tbody tr th:only-of-type {\n",
              "        vertical-align: middle;\n",
              "    }\n",
              "\n",
              "    .dataframe tbody tr th {\n",
              "        vertical-align: top;\n",
              "    }\n",
              "\n",
              "    .dataframe thead th {\n",
              "        text-align: right;\n",
              "    }\n",
              "</style>\n",
              "<table border=\"1\" class=\"dataframe\">\n",
              "  <thead>\n",
              "    <tr style=\"text-align: right;\">\n",
              "      <th></th>\n",
              "      <th>Temp(F)</th>\n",
              "      <th>Rainfall(mm)</th>\n",
              "      <th>Humidity(%)</th>\n",
              "      <th>Apples(ton)</th>\n",
              "      <th>Oranges(ton)</th>\n",
              "    </tr>\n",
              "  </thead>\n",
              "  <tbody>\n",
              "    <tr>\n",
              "      <th>Semnan</th>\n",
              "      <td>73.0</td>\n",
              "      <td>67.0</td>\n",
              "      <td>43.0</td>\n",
              "      <td>56.0</td>\n",
              "      <td>70.0</td>\n",
              "    </tr>\n",
              "    <tr>\n",
              "      <th>Golestan</th>\n",
              "      <td>91.0</td>\n",
              "      <td>88.0</td>\n",
              "      <td>64.0</td>\n",
              "      <td>81.0</td>\n",
              "      <td>101.0</td>\n",
              "    </tr>\n",
              "    <tr>\n",
              "      <th>Gilan</th>\n",
              "      <td>87.0</td>\n",
              "      <td>134.0</td>\n",
              "      <td>58.0</td>\n",
              "      <td>119.0</td>\n",
              "      <td>133.0</td>\n",
              "    </tr>\n",
              "    <tr>\n",
              "      <th>Ghazvin</th>\n",
              "      <td>102.0</td>\n",
              "      <td>43.0</td>\n",
              "      <td>37.0</td>\n",
              "      <td>22.0</td>\n",
              "      <td>37.0</td>\n",
              "    </tr>\n",
              "    <tr>\n",
              "      <th>Mazandaran</th>\n",
              "      <td>69.0</td>\n",
              "      <td>96.0</td>\n",
              "      <td>70.0</td>\n",
              "      <td>103.0</td>\n",
              "      <td>119.0</td>\n",
              "    </tr>\n",
              "  </tbody>\n",
              "</table>\n",
              "</div>\n",
              "    <div class=\"colab-df-buttons\">\n",
              "\n",
              "  <div class=\"colab-df-container\">\n",
              "    <button class=\"colab-df-convert\" onclick=\"convertToInteractive('df-aba489fe-0b32-497f-9b99-76ea414febf2')\"\n",
              "            title=\"Convert this dataframe to an interactive table.\"\n",
              "            style=\"display:none;\">\n",
              "\n",
              "  <svg xmlns=\"http://www.w3.org/2000/svg\" height=\"24px\" viewBox=\"0 -960 960 960\">\n",
              "    <path d=\"M120-120v-720h720v720H120Zm60-500h600v-160H180v160Zm220 220h160v-160H400v160Zm0 220h160v-160H400v160ZM180-400h160v-160H180v160Zm440 0h160v-160H620v160ZM180-180h160v-160H180v160Zm440 0h160v-160H620v160Z\"/>\n",
              "  </svg>\n",
              "    </button>\n",
              "\n",
              "  <style>\n",
              "    .colab-df-container {\n",
              "      display:flex;\n",
              "      gap: 12px;\n",
              "    }\n",
              "\n",
              "    .colab-df-convert {\n",
              "      background-color: #E8F0FE;\n",
              "      border: none;\n",
              "      border-radius: 50%;\n",
              "      cursor: pointer;\n",
              "      display: none;\n",
              "      fill: #1967D2;\n",
              "      height: 32px;\n",
              "      padding: 0 0 0 0;\n",
              "      width: 32px;\n",
              "    }\n",
              "\n",
              "    .colab-df-convert:hover {\n",
              "      background-color: #E2EBFA;\n",
              "      box-shadow: 0px 1px 2px rgba(60, 64, 67, 0.3), 0px 1px 3px 1px rgba(60, 64, 67, 0.15);\n",
              "      fill: #174EA6;\n",
              "    }\n",
              "\n",
              "    .colab-df-buttons div {\n",
              "      margin-bottom: 4px;\n",
              "    }\n",
              "\n",
              "    [theme=dark] .colab-df-convert {\n",
              "      background-color: #3B4455;\n",
              "      fill: #D2E3FC;\n",
              "    }\n",
              "\n",
              "    [theme=dark] .colab-df-convert:hover {\n",
              "      background-color: #434B5C;\n",
              "      box-shadow: 0px 1px 3px 1px rgba(0, 0, 0, 0.15);\n",
              "      filter: drop-shadow(0px 1px 2px rgba(0, 0, 0, 0.3));\n",
              "      fill: #FFFFFF;\n",
              "    }\n",
              "  </style>\n",
              "\n",
              "    <script>\n",
              "      const buttonEl =\n",
              "        document.querySelector('#df-aba489fe-0b32-497f-9b99-76ea414febf2 button.colab-df-convert');\n",
              "      buttonEl.style.display =\n",
              "        google.colab.kernel.accessAllowed ? 'block' : 'none';\n",
              "\n",
              "      async function convertToInteractive(key) {\n",
              "        const element = document.querySelector('#df-aba489fe-0b32-497f-9b99-76ea414febf2');\n",
              "        const dataTable =\n",
              "          await google.colab.kernel.invokeFunction('convertToInteractive',\n",
              "                                                    [key], {});\n",
              "        if (!dataTable) return;\n",
              "\n",
              "        const docLinkHtml = 'Like what you see? Visit the ' +\n",
              "          '<a target=\"_blank\" href=https://colab.research.google.com/notebooks/data_table.ipynb>data table notebook</a>'\n",
              "          + ' to learn more about interactive tables.';\n",
              "        element.innerHTML = '';\n",
              "        dataTable['output_type'] = 'display_data';\n",
              "        await google.colab.output.renderOutput(dataTable, element);\n",
              "        const docLink = document.createElement('div');\n",
              "        docLink.innerHTML = docLinkHtml;\n",
              "        element.appendChild(docLink);\n",
              "      }\n",
              "    </script>\n",
              "  </div>\n",
              "\n",
              "\n",
              "<div id=\"df-75836478-bbd1-4207-9617-0df63be46c23\">\n",
              "  <button class=\"colab-df-quickchart\" onclick=\"quickchart('df-75836478-bbd1-4207-9617-0df63be46c23')\"\n",
              "            title=\"Suggest charts.\"\n",
              "            style=\"display:none;\">\n",
              "\n",
              "<svg xmlns=\"http://www.w3.org/2000/svg\" height=\"24px\"viewBox=\"0 0 24 24\"\n",
              "     width=\"24px\">\n",
              "    <g>\n",
              "        <path d=\"M19 3H5c-1.1 0-2 .9-2 2v14c0 1.1.9 2 2 2h14c1.1 0 2-.9 2-2V5c0-1.1-.9-2-2-2zM9 17H7v-7h2v7zm4 0h-2V7h2v10zm4 0h-2v-4h2v4z\"/>\n",
              "    </g>\n",
              "</svg>\n",
              "  </button>\n",
              "\n",
              "<style>\n",
              "  .colab-df-quickchart {\n",
              "      --bg-color: #E8F0FE;\n",
              "      --fill-color: #1967D2;\n",
              "      --hover-bg-color: #E2EBFA;\n",
              "      --hover-fill-color: #174EA6;\n",
              "      --disabled-fill-color: #AAA;\n",
              "      --disabled-bg-color: #DDD;\n",
              "  }\n",
              "\n",
              "  [theme=dark] .colab-df-quickchart {\n",
              "      --bg-color: #3B4455;\n",
              "      --fill-color: #D2E3FC;\n",
              "      --hover-bg-color: #434B5C;\n",
              "      --hover-fill-color: #FFFFFF;\n",
              "      --disabled-bg-color: #3B4455;\n",
              "      --disabled-fill-color: #666;\n",
              "  }\n",
              "\n",
              "  .colab-df-quickchart {\n",
              "    background-color: var(--bg-color);\n",
              "    border: none;\n",
              "    border-radius: 50%;\n",
              "    cursor: pointer;\n",
              "    display: none;\n",
              "    fill: var(--fill-color);\n",
              "    height: 32px;\n",
              "    padding: 0;\n",
              "    width: 32px;\n",
              "  }\n",
              "\n",
              "  .colab-df-quickchart:hover {\n",
              "    background-color: var(--hover-bg-color);\n",
              "    box-shadow: 0 1px 2px rgba(60, 64, 67, 0.3), 0 1px 3px 1px rgba(60, 64, 67, 0.15);\n",
              "    fill: var(--button-hover-fill-color);\n",
              "  }\n",
              "\n",
              "  .colab-df-quickchart-complete:disabled,\n",
              "  .colab-df-quickchart-complete:disabled:hover {\n",
              "    background-color: var(--disabled-bg-color);\n",
              "    fill: var(--disabled-fill-color);\n",
              "    box-shadow: none;\n",
              "  }\n",
              "\n",
              "  .colab-df-spinner {\n",
              "    border: 2px solid var(--fill-color);\n",
              "    border-color: transparent;\n",
              "    border-bottom-color: var(--fill-color);\n",
              "    animation:\n",
              "      spin 1s steps(1) infinite;\n",
              "  }\n",
              "\n",
              "  @keyframes spin {\n",
              "    0% {\n",
              "      border-color: transparent;\n",
              "      border-bottom-color: var(--fill-color);\n",
              "      border-left-color: var(--fill-color);\n",
              "    }\n",
              "    20% {\n",
              "      border-color: transparent;\n",
              "      border-left-color: var(--fill-color);\n",
              "      border-top-color: var(--fill-color);\n",
              "    }\n",
              "    30% {\n",
              "      border-color: transparent;\n",
              "      border-left-color: var(--fill-color);\n",
              "      border-top-color: var(--fill-color);\n",
              "      border-right-color: var(--fill-color);\n",
              "    }\n",
              "    40% {\n",
              "      border-color: transparent;\n",
              "      border-right-color: var(--fill-color);\n",
              "      border-top-color: var(--fill-color);\n",
              "    }\n",
              "    60% {\n",
              "      border-color: transparent;\n",
              "      border-right-color: var(--fill-color);\n",
              "    }\n",
              "    80% {\n",
              "      border-color: transparent;\n",
              "      border-right-color: var(--fill-color);\n",
              "      border-bottom-color: var(--fill-color);\n",
              "    }\n",
              "    90% {\n",
              "      border-color: transparent;\n",
              "      border-bottom-color: var(--fill-color);\n",
              "    }\n",
              "  }\n",
              "</style>\n",
              "\n",
              "  <script>\n",
              "    async function quickchart(key) {\n",
              "      const quickchartButtonEl =\n",
              "        document.querySelector('#' + key + ' button');\n",
              "      quickchartButtonEl.disabled = true;  // To prevent multiple clicks.\n",
              "      quickchartButtonEl.classList.add('colab-df-spinner');\n",
              "      try {\n",
              "        const charts = await google.colab.kernel.invokeFunction(\n",
              "            'suggestCharts', [key], {});\n",
              "      } catch (error) {\n",
              "        console.error('Error during call to suggestCharts:', error);\n",
              "      }\n",
              "      quickchartButtonEl.classList.remove('colab-df-spinner');\n",
              "      quickchartButtonEl.classList.add('colab-df-quickchart-complete');\n",
              "    }\n",
              "    (() => {\n",
              "      let quickchartButtonEl =\n",
              "        document.querySelector('#df-75836478-bbd1-4207-9617-0df63be46c23 button');\n",
              "      quickchartButtonEl.style.display =\n",
              "        google.colab.kernel.accessAllowed ? 'block' : 'none';\n",
              "    })();\n",
              "  </script>\n",
              "</div>\n",
              "    </div>\n",
              "  </div>\n"
            ]
          },
          "metadata": {},
          "execution_count": 2
        }
      ],
      "source": [
        "# We use pandas to represent dataset\n",
        "import pandas as pd\n",
        "\n",
        "# Creating dataframe using variable columns as columns and regions as index\n",
        "df = pd.DataFrame(df, columns=columns, index=regions)\n",
        "\n",
        "df"
      ]
    },
    {
      "cell_type": "markdown",
      "metadata": {
        "id": "0BrjWqO-AESk"
      },
      "source": [
        "##### <font color=\"#008080\" face=\"Times New Roman\" size=4> - Pre-Processing Dataset</font>"
      ]
    },
    {
      "cell_type": "code",
      "execution_count": 3,
      "metadata": {
        "colab": {
          "base_uri": "https://localhost:8080/"
        },
        "id": "-mpV4390AESl",
        "outputId": "06f04a07-ddc5-4804-9412-103bf36aba6d"
      },
      "outputs": [
        {
          "output_type": "execute_result",
          "data": {
            "text/plain": [
              "array([[  1.,  73.,  67.,  43.],\n",
              "       [  1.,  91.,  88.,  64.],\n",
              "       [  1.,  87., 134.,  58.],\n",
              "       [  1., 102.,  43.,  37.],\n",
              "       [  1.,  69.,  96.,  70.]])"
            ]
          },
          "metadata": {},
          "execution_count": 3
        }
      ],
      "source": [
        "# Separate dataset to two parts: X (inputs) - Y (productivity amount)\n",
        "X = df.iloc[:, :3].to_numpy()\n",
        "Y = df.iloc[:, 3:].to_numpy()\n",
        "\n",
        "# Based on Y = X * W + b the element of b just add a constant value to XW so we can add 1 to each row of X without any change in the output\n",
        "X = np.append(np.ones((5, 1)), X , axis=1)\n",
        "X"
      ]
    },
    {
      "cell_type": "markdown",
      "metadata": {
        "id": "E5LZv8WxAESl"
      },
      "source": [
        "<font face=\"Times New Roman\"><div id=\"1-1-1\">\n",
        "### <font color=\"#800080\" size=5>**1-1-1. Closed Form**</font>\n",
        "</div>"
      ]
    },
    {
      "cell_type": "code",
      "execution_count": 4,
      "metadata": {
        "id": "LpEmhZsmAESl"
      },
      "outputs": [],
      "source": [
        "# Closed form of Linear Regression Implementation\n",
        "\n",
        "# A function to implement its equation and return predicted W\n",
        "def normal_equation(X, Y):\n",
        "    W = np.dot((np.linalg.inv(np.dot(X.T,X))), np.dot(X.T,Y))\n",
        "    return W\n",
        "\n",
        "# .dot() represent matrix multiplication in numpy\n",
        "def lr_predict(X, W):\n",
        "    return np.dot(X, W)\n",
        "\n",
        "# Main function of closed form: it gets X and Y and returns its predictions correspond to input X\n",
        "def closed_form_lr(X, Y):\n",
        "    W = normal_equation(X, Y)\n",
        "    predictions = lr_predict(X, W)\n",
        "    return predictions\n",
        "\n",
        "# MSE loss\n",
        "def mse_loss(pred, real):\n",
        "    diff = pred - real\n",
        "    return np.sum(diff * diff) / diff.size"
      ]
    },
    {
      "cell_type": "markdown",
      "metadata": {
        "id": "DCicBNv3AESm"
      },
      "source": [
        "#### <font color=\"#008080\" face=\"Times New Roman\" size=4>**Evaluation**</font>"
      ]
    },
    {
      "cell_type": "markdown",
      "metadata": {
        "id": "n2ViYLYjAESn"
      },
      "source": [
        "##### <font color=\"#008080\" face=\"Times New Roman\" size=4> - Prediction</font>"
      ]
    },
    {
      "cell_type": "code",
      "execution_count": 5,
      "metadata": {
        "id": "5Ojfx5_ewZUW"
      },
      "outputs": [],
      "source": [
        "predictions = closed_form_lr(X, Y)"
      ]
    },
    {
      "cell_type": "markdown",
      "metadata": {
        "id": "6fweiFAXAESn"
      },
      "source": [
        "##### <font color=\"#008080\" face=\"Times New Roman\" size=4> - Loss </font>"
      ]
    },
    {
      "cell_type": "code",
      "execution_count": 6,
      "metadata": {
        "colab": {
          "base_uri": "https://localhost:8080/"
        },
        "id": "brnmUn7rAESn",
        "outputId": "698922d2-66a7-4d53-c260-e378d794baae"
      },
      "outputs": [
        {
          "output_type": "execute_result",
          "data": {
            "text/plain": [
              "0.4831212220582056"
            ]
          },
          "metadata": {},
          "execution_count": 6
        }
      ],
      "source": [
        "mse_loss(predictions, Y)"
      ]
    },
    {
      "cell_type": "markdown",
      "metadata": {
        "id": "68iIHGEgAl1w"
      },
      "source": [
        "<font face=\"Times New Roman\"><div id=\"1-1-2\">\n",
        "### <font color=\"#800080\" size=5>**1-1-2. Using Optimization Function (Gradient Descent)**</font>\n",
        "</div>"
      ]
    },
    {
      "cell_type": "markdown",
      "metadata": {
        "id": "14oWGLnbAl1y"
      },
      "source": [
        "#### <font color=\"#008080\" face=\"Times New Roman\" size=4>**Start with random weights**</font>"
      ]
    },
    {
      "cell_type": "code",
      "execution_count": 7,
      "metadata": {
        "colab": {
          "base_uri": "https://localhost:8080/"
        },
        "id": "ozKb37LXAl1y",
        "outputId": "69486ea1-fd6c-4ce0-9c50-1afd93a51e9e"
      },
      "outputs": [
        {
          "output_type": "execute_result",
          "data": {
            "text/plain": [
              "array([[0.51917106, 0.14036571],\n",
              "       [0.0524824 , 0.72269975],\n",
              "       [0.95922933, 0.17546878],\n",
              "       [0.83931093, 0.48137782]])"
            ]
          },
          "metadata": {},
          "execution_count": 7
        }
      ],
      "source": [
        "# Random initialization for weights\n",
        "W = np.random.rand(4, 2)\n",
        "W"
      ]
    },
    {
      "cell_type": "code",
      "execution_count": 8,
      "metadata": {
        "colab": {
          "base_uri": "https://localhost:8080/"
        },
        "id": "yuMQBykZwZUe",
        "outputId": "39479d3b-1273-4084-9bcb-bf88845c9e74"
      },
      "outputs": [
        {
          "output_type": "execute_result",
          "data": {
            "text/plain": [
              "array([[104.70912098,  85.35310177],\n",
              "       [143.42314954, 112.15547579],\n",
              "       [182.30190351, 114.44797402],\n",
              "       [ 78.173741  ,  99.21187668],\n",
              "       [154.97823704, 100.54809855]])"
            ]
          },
          "metadata": {},
          "execution_count": 8
        }
      ],
      "source": [
        "# Use lr_predict from last section to find predictions by new weights\n",
        "predictions = lr_predict(X, W)\n",
        "predictions"
      ]
    },
    {
      "cell_type": "code",
      "execution_count": 9,
      "metadata": {
        "colab": {
          "base_uri": "https://localhost:8080/"
        },
        "id": "Ha7yR0A-wZUg",
        "outputId": "12295bcd-f45e-4fb2-fd15-275e5e283f65"
      },
      "outputs": [
        {
          "output_type": "stream",
          "name": "stdout",
          "text": [
            "2104.871566484253\n"
          ]
        }
      ],
      "source": [
        "# Calculate loss of our predictions\n",
        "loss = mse_loss(predictions, Y)\n",
        "print(loss)"
      ]
    },
    {
      "cell_type": "markdown",
      "metadata": {
        "id": "1pM7GWcCwZUi"
      },
      "source": [
        "#### <font color=\"#008080\" face=\"Times New Roman\" size=4>**Gradient Descent**</font>"
      ]
    },
    {
      "cell_type": "code",
      "execution_count": 10,
      "metadata": {
        "id": "9eFBz9ObwZUj"
      },
      "outputs": [],
      "source": [
        "# Implementation of gradient\n",
        "def calc_gradient(X, error):\n",
        "    gradient = np.dot(X.T, error)\n",
        "    return gradient\n",
        "\n",
        "# Implementation of updating weights by using their gradient\n",
        "def update_weights(W, lr, gradient):\n",
        "    new_weights = W - lr * gradient\n",
        "    return new_weights"
      ]
    },
    {
      "cell_type": "markdown",
      "metadata": {
        "id": "osVXNTRxAl1y"
      },
      "source": [
        "#### <font color=\"#008080\" face=\"Times New Roman\" size=4>**Train**</font>"
      ]
    },
    {
      "cell_type": "code",
      "execution_count": 11,
      "metadata": {
        "id": "zXCt34qrAl1z"
      },
      "outputs": [],
      "source": [
        "def train_model_lr_gd(X, Y, W, n_epoches, lr):\n",
        "    losses = []\n",
        "    for i in range(n_epoches):\n",
        "        # generating the predictions\n",
        "        predictions = lr_predict(X, W)\n",
        "        error = predictions - Y\n",
        "        # calculating the loss\n",
        "        loss = mse_loss(predictions, Y)\n",
        "        # adding the loss to our loss list\n",
        "        losses.append(loss)\n",
        "        # calculating gradients\n",
        "        gradient = calc_gradient(X, error) / Y.size\n",
        "        # updating weights and biases\n",
        "        W = update_weights(W, lr, gradient)\n",
        "    return W, losses"
      ]
    },
    {
      "cell_type": "markdown",
      "metadata": {
        "id": "UNVQE4NhAl1z"
      },
      "source": [
        "#### <font color=\"#008080\" face=\"Times New Roman\" size=4>**Test**</font>"
      ]
    },
    {
      "cell_type": "code",
      "execution_count": 12,
      "metadata": {
        "colab": {
          "base_uri": "https://localhost:8080/"
        },
        "id": "aGTyxoTtAl1z",
        "outputId": "67266cc7-86b6-4b76-dfc4-9f3b339e9db4"
      },
      "outputs": [
        {
          "output_type": "stream",
          "name": "stdout",
          "text": [
            "0.5253812078012265\n"
          ]
        }
      ],
      "source": [
        "# Use our model with learning rate 1e-5 and 10000 epochs and keep all loss values\n",
        "lr = 1e-5\n",
        "n_epoches = 10000\n",
        "W, losses = train_model_lr_gd(X, Y, W, n_epoches, lr)\n",
        "print(losses[-1])"
      ]
    },
    {
      "cell_type": "markdown",
      "metadata": {
        "id": "SULBwRA6Al10"
      },
      "source": [
        "#### <font color=\"#008080\" face=\"Times New Roman\" size=4>**Visualization**</font>"
      ]
    },
    {
      "cell_type": "code",
      "execution_count": 13,
      "metadata": {
        "cellView": "form",
        "colab": {
          "base_uri": "https://localhost:8080/",
          "height": 54
        },
        "id": "ib8Or3t8Al11",
        "outputId": "247dd5cd-f02a-4715-9c99-67a7f06212d7"
      },
      "outputs": [
        {
          "output_type": "display_data",
          "data": {
            "text/plain": [
              "<Figure size 640x480 with 1 Axes>"
            ],
            "image/png": "[encoded data removed]"
          },
          "metadata": {}
        }
      ],
      "source": [
        "import matplotlib.pyplot as plt\n",
        "\n",
        "# x axis values\n",
        "x = [i for i in range(n_epoches)]\n",
        "# corresponding y axis values\n",
        "y = losses\n",
        "\n",
        "# plotting the points\n",
        "plt.plot(x, y)\n",
        "\n",
        "# naming the x axis\n",
        "plt.xlabel('number of epoches')\n",
        "# naming the y axis\n",
        "plt.ylabel('loss')\n",
        "\n",
        "# function to show the plot\n",
        "plt.show()"
      ]
    },
    {
      "cell_type": "markdown",
      "metadata": {
        "id": "jMDGlNqnwZUu"
      },
      "source": [
        "<font face=\"Times New Roman\"><div id=\"2\">\n",
        "# <font color=\"#800080\" size=6>**2. Beyond Linear Regression**</font>\n",
        "</div>"
      ]
    },
    {
      "cell_type": "markdown",
      "metadata": {
        "id": "OZyxj4cjnzW_"
      },
      "source": [
        "<font face=\"Times New Roman\"><div id=\"2-1\">\n",
        "## <font color=\"#800080\" size=6>**2-1. Elastic Net**</font>\n",
        "</div>"
      ]
    },
    {
      "cell_type": "markdown",
      "metadata": {
        "id": "VQ5QM-42DA_1"
      },
      "source": [
        "#### <font color=\"#008080\" face=\"Times New Roman\" size=4>**Model**</font>"
      ]
    },
    {
      "cell_type": "code",
      "execution_count": 14,
      "metadata": {
        "id": "Cb9U5AFnDA_2"
      },
      "outputs": [],
      "source": [
        "class Regression:\n",
        "\n",
        "    def __init__(self, regularization, lr, epoch):\n",
        "        self.m = None #samples\n",
        "        self.n = None #features\n",
        "        self.w = None #weight\n",
        "        self.b = None #bias\n",
        "        self.regularization = regularization #penalty object\n",
        "        self.lr = lr #learning rate\n",
        "        self.epoch = epoch #iteration\n",
        "\n",
        "    def __calculate_cost(self, y, y_pred):\n",
        "        return (1 / (2*self.m)) * np.sum(np.square(y_pred-y)) + self.regularization(self.w)\n",
        "\n",
        "    def __hypothesis(self, w, X):\n",
        "        return np.dot(X, w)\n",
        "\n",
        "    def __initialization(self, X):\n",
        "        X = np.insert(X, 0, 1, axis=1)\n",
        "        self.m, self.n = X.shape\n",
        "        self.w = np.zeros((self.n,1))\n",
        "        return X\n",
        "\n",
        "    def __update_parameters(self, X, y, y_pred):\n",
        "        dw = (1/self.m) * np.dot(X.T, (y_pred - y)) + self.regularization.derivation(self.w)\n",
        "        self.w = self.w - self.lr * dw\n",
        "        return True\n",
        "\n",
        "    def fit(self, X, y):\n",
        "        X = self.__initialization(X)\n",
        "        for e in range(1, self.epoch+1):\n",
        "            y_pred = self.__hypothesis(self.w, X)\n",
        "            cost = self.__calculate_cost(y, y_pred)\n",
        "            self.__update_parameters(X, y, y_pred)\n",
        "            if e % 5000 == 0:\n",
        "#                 print(f\"The Cost in iteration {e}----->{cost} :)\")\n",
        "                pass\n",
        "\n",
        "        return True\n",
        "\n",
        "    def predict(self, X_test):\n",
        "        X_test = np.insert(X_test, 0 , 1, axis= 1)\n",
        "        y_pred = self.__hypothesis(self.w, X_test)\n",
        "        return y_pred"
      ]
    },
    {
      "cell_type": "code",
      "execution_count": 15,
      "metadata": {
        "id": "uxYKZQ2uCL3W"
      },
      "outputs": [],
      "source": [
        "class ElasticPenalty:\n",
        "\n",
        "    def __init__(self, l = 0.1, l_ratio = 0.5):\n",
        "        self.l = l\n",
        "        self.l_ratio = l_ratio\n",
        "\n",
        "    def __call__(self, w):\n",
        "        l1_contribution = self.l_ratio * self.l * np.sum(np.abs(w))\n",
        "        l2_contribution = (1 - self.l_ratio) * self.l * 0.5 * np.sum(np.square(w))\n",
        "        return (l1_contribution + l2_contribution)\n",
        "\n",
        "    def derivation(self, w):\n",
        "        l1_derivation = self.l * self.l_ratio * np.sign(w)\n",
        "        l2_derivation = self.l * (1 - self.l_ratio) * w\n",
        "        return (l1_derivation + l2_derivation)"
      ]
    },
    {
      "cell_type": "code",
      "execution_count": 16,
      "metadata": {
        "id": "11rH2ctXCL3X"
      },
      "outputs": [],
      "source": [
        "class ElasticNet(Regression):\n",
        "\n",
        "    def __init__(self, l, l_ratio, lr, epoch):\n",
        "        self.regularization = ElasticPenalty(l,l_ratio)\n",
        "        super().__init__(self.regularization, lr, epoch)"
      ]
    },
    {
      "cell_type": "markdown",
      "metadata": {
        "id": "UYJC961EDA_2"
      },
      "source": [
        "<font face=\"Times New Roman\"><div id=\"2-1-1\">\n",
        "### <font color=\"#800080\" size=5>**2-1-1. Lasso VS Ridge**</font>\n",
        "</div>"
      ]
    },
    {
      "cell_type": "code",
      "execution_count": 17,
      "metadata": {
        "colab": {
          "base_uri": "https://localhost:8080/",
          "height": 449
        },
        "id": "vx27gm_9DA_2",
        "outputId": "58e66a4c-baf0-4f15-88bd-91ea91189fa2"
      },
      "outputs": [
        {
          "output_type": "display_data",
          "data": {
            "text/plain": [
              "<Figure size 640x480 with 1 Axes>"
            ],
            "image/png": "[encoded data removed]"
          },
          "metadata": {}
        }
      ],
      "source": [
        "from sklearn.datasets import make_regression\n",
        "\n",
        "# Creating the dataset\n",
        "X, y = make_regression(n_samples=50000, n_features=8, noise=5)\n",
        "y = y[:, np.newaxis]\n",
        "\n",
        "losses = []\n",
        "for i in range(11):\n",
        "    parameters = {\n",
        "        \"l_ratio\" : i * 0.1,\n",
        "        \"l\" : 0.1,\n",
        "        \"lr\" : 0.001,\n",
        "        \"epoch\" : 10000\n",
        "    }\n",
        "    model = ElasticNet(**parameters)\n",
        "    model.fit(X, y)\n",
        "    y_pred = model.predict(X)\n",
        "    losses.append(mse_loss(y_pred, y))\n",
        "\n",
        "x = [i * 0.1 for i in range(11)]\n",
        "y = losses\n",
        "plt.plot(x, y)\n",
        "plt.xlabel('l ratio')\n",
        "plt.ylabel('loss')\n",
        "plt.show()"
      ]
    },
    {
      "cell_type": "code",
      "execution_count": 18,
      "metadata": {
        "colab": {
          "base_uri": "https://localhost:8080/",
          "height": 449
        },
        "id": "3grZumnHwZU2",
        "outputId": "d15c399f-8890-47ee-ac4e-843f3007354b"
      },
      "outputs": [
        {
          "output_type": "display_data",
          "data": {
            "text/plain": [
              "<Figure size 640x480 with 1 Axes>"
            ],
            "image/png": "[encoded data removed]"
          },
          "metadata": {}
        }
      ],
      "source": [
        "# Creating the dataset\n",
        "X, y = make_regression(n_samples=5000, n_features=3, noise=3)\n",
        "y = y[:, np.newaxis]\n",
        "\n",
        "for i in range (5000):\n",
        "    if i % 4 == 0:\n",
        "        X[i] = X[i] * 20\n",
        "        y[i] = y[i] * 20\n",
        "losses = []\n",
        "for i in range(11):\n",
        "    parameters = {\n",
        "        \"l_ratio\" : i * 0.1,\n",
        "        \"l\" : 0.1,\n",
        "        \"lr\" : 0.0001,\n",
        "        \"epoch\" : 10000\n",
        "    }\n",
        "    model = ElasticNet(**parameters)\n",
        "    model.fit(X, y)\n",
        "    y_pred = model.predict(X)\n",
        "    losses.append(mse_loss(y_pred, y))\n",
        "x = [i * 0.1 for i in range(11)]\n",
        "y = losses\n",
        "plt.plot(x, y)\n",
        "plt.xlabel('l ratio')\n",
        "plt.ylabel('loss')\n",
        "plt.show()"
      ]
    },
    {
      "cell_type": "code",
      "source": [
        "# Generating polynomial dataset\n",
        "from sklearn.preprocessing import PolynomialFeatures\n",
        "\n",
        "X = np.random.randn(5000, 10)\n",
        "poly = PolynomialFeatures(degree=3)\n",
        "X = poly.fit_transform(X)\n",
        "y = np.random.randn(5000, 1)\n",
        "\n",
        "# Introducing collinearity between features\n",
        "for i in range(X.shape[1]):\n",
        "  X[:,i] = X[:,i] + 0.5*X[:,i-1]\n",
        "\n",
        "# Defining model parameters\n",
        "losses = []\n",
        "for i in range(11):\n",
        "  parameters = {\n",
        "    \"l_ratio\" : i * 0.1,\n",
        "    \"l\" : 1, # Increased regularization strength\n",
        "    \"lr\" : 0.0001,\n",
        "    \"epoch\" : 10000\n",
        "  }\n",
        "\n",
        "  # Fitting model\n",
        "  model = ElasticNet(**parameters)\n",
        "  model.fit(X, y)\n",
        "\n",
        "  # Making predictions and evaluating loss\n",
        "  y_pred = model.predict(X)\n",
        "  losses.append(mse_loss(y_pred, y))\n",
        "\n",
        "# Plotting losses\n",
        "x = [i * 0.1 for i in range(11)]\n",
        "y = losses\n",
        "plt.plot(x, y)\n",
        "plt.xlabel('l ratio')\n",
        "plt.ylabel('loss')\n",
        "plt.show()"
      ],
      "metadata": {
        "colab": {
          "base_uri": "https://localhost:8080/",
          "height": 449
        },
        "id": "5gdYX5VhCR-o",
        "outputId": "a995bd36-a6ce-44ce-8e33-75901277599b"
      },
      "execution_count": 19,
      "outputs": [
        {
          "output_type": "display_data",
          "data": {
            "text/plain": [
              "<Figure size 640x480 with 1 Axes>"
            ],
            "image/png": "[encoded data removed]"
          },
          "metadata": {}
        }
      ]
    }
  ],
  "metadata": {
    "colab": {
      "collapsed_sections": [
        "rYaiPL1plrDm",
        "swwrxuSMAESj",
        "gYuiA7fFAESk",
        "helJaWTOAESk",
        "0BrjWqO-AESk",
        "E5LZv8WxAESl",
        "gSvKw0pdAESm",
        "DCicBNv3AESm",
        "rpEZrgzGAESn",
        "68iIHGEgAl1w",
        "hXPBaNz8Al1x",
        "M0vNkt4dAl1x",
        "_8eHSEgJAl1x",
        "14oWGLnbAl1y",
        "osVXNTRxAl1y",
        "UNVQE4NhAl1z",
        "SULBwRA6Al10",
        "OZyxj4cjnzW_",
        "eVbZVyBbDA_0",
        "8Iel5jWADA_0",
        "sk45TUlPDA_1",
        "Jsg8bozFDA_1",
        "VQ5QM-42DA_1",
        "UYJC961EDA_2",
        "3pZCWtkeo2Q_",
        "BG6JDKXAKthv",
        "I3TA7qSXJJug",
        "vORapzaoJJug",
        "2JNOCPY3JJuh",
        "3bDvO3dZJXLK",
        "DdttC2gIJhFv",
        "d1zcyxjIJnxg",
        "PcxB-PgbJ1FT",
        "TOn8ae25J-Px",
        "RnJ3PbxLKkyu",
        "JGusVztLLKHA",
        "D2hHo3jxLKHA",
        "GYdgEkdDLKHB",
        "L-YMqtB5LKHB",
        "B-nGWBOrIrDe",
        "1kwiWMyhL0Cw",
        "EcUj0p-zL0Cw",
        "ZpIDH-M4L0Cx",
        "950JsRNjMAny",
        "iOPf8PsJMHZ4",
        "a6xyh9qQMNUh",
        "HBT59RLpIyUY",
        "XjRZm_smMaVe",
        "GjQTvUPCNGiw",
        "FnHgYu6jNcNn",
        "UuhpDpAfNhYJ",
        "sb5j_Pm8NrmT",
        "0fK-03_HNula",
        "sq_TTicpN0Rz",
        "1TgrioWuqBHB",
        "DXDtIWVI8y1_",
        "fnaXSgAZ-RoF",
        "OuleUT7a-aLd",
        "v3vX2AMI-jCL",
        "NB7H40DRqdBB",
        "0VlisYKK1BZ_",
        "lDvUSGJx15Dj",
        "PHHocSy32QI1",
        "Q7t6YQtj2Kgg",
        "n2JfuA9Wrqc4",
        "5mJ6zlBgsQVA",
        "TukJ4C4HsQVA",
        "f57VmUBasQVA",
        "HX4ZzxDNsQVB",
        "ze7ht2dosQVB",
        "vkmW7nLxtTbU",
        "VEqcnt5hwNdd",
        "fSjtED4lwXGX",
        "8p7waG2NwXN_",
        "0RYjgiwjzwKx",
        "LBfyqilLwXVo",
        "XDcH1G2wxDoG"
      ],
      "provenance": []
    },
    "kernelspec": {
      "display_name": "local-venv",
      "language": "python",
      "name": "local-venv"
    },
    "language_info": {
      "codemirror_mode": {
        "name": "ipython",
        "version": 3
      },
      "file_extension": ".py",
      "mimetype": "text/x-python",
      "name": "python",
      "nbconvert_exporter": "python",
      "pygments_lexer": "ipython3",
      "version": "3.10.6"
    }
  },
  "nbformat": 4,
  "nbformat_minor": 0
}